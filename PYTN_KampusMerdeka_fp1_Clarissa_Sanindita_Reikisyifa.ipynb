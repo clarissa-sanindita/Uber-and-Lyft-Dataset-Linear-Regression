{
  "nbformat": 4,
  "nbformat_minor": 0,
  "metadata": {
    "colab": {
      "provenance": []
    },
    "kernelspec": {
      "name": "python3",
      "display_name": "Python 3"
    },
    "language_info": {
      "name": "python"
    }
  },
  "cells": [
    {
      "cell_type": "markdown",
      "source": [
        "Anggota :\n",
        "- Paizal Merdijaya\n",
        "- Alviatul Nazila\n",
        "- Clarissa Sanindita Reikisyifa"
      ],
      "metadata": {
        "id": "-N85t0KNlfD5"
      }
    },
    {
      "cell_type": "markdown",
      "source": [
        "#Pengenalan"
      ],
      "metadata": {
        "id": "395QUU5KjR37"
      }
    },
    {
      "cell_type": "markdown",
      "source": [
        "##Latar Belakang"
      ],
      "metadata": {
        "id": "nZNSSufDlyLT"
      }
    },
    {
      "cell_type": "markdown",
      "source": [
        "Pada era digital saat ini, layanan transportasi berbasis aplikasi telah menjadi bagian integral dari kehidupan sehari-hari banyak orang. Layanan seperti Lyft, Uber, dan lainnya memungkinkan konsumen untuk memesan tumpangan dengan mudah melalui ponsel mereka, menawarkan kenyamanan dan efisiensi yang tak tertandingi oleh moda transportasi tradisional.\n",
        "\n",
        "Salah satu aspek paling menarik dari layanan ini adalah penentuan harga. Banyak dari platform ini memanfaatkan algoritma harga dinamis yang menyesuaikan biaya tumpangan berdasarkan berbagai faktor, seperti permintaan, waktu, cuaca, dan banyak lagi. Untuk perusahaan transportasi, pemahaman mendalam tentang dinamika harga ini adalah kunci untuk meningkatkan pendapatan dan efisiensi operasional.\n",
        "\n",
        "Dalam konteks ini, kami memilih untuk menganalisis dataset yang berkaitan dengan perjalanan yang dipesan melalui layanan Lyft di kota tertentu. Analisis data ini dapat memberikan wawasan berharga tentang bagaimana faktor-faktor tertentu mempengaruhi harga, serta bagaimana perusahaan bisa mengoptimalkan strategi penentuan harga mereka."
      ],
      "metadata": {
        "id": "cMmwiE4alwBC"
      }
    },
    {
      "cell_type": "markdown",
      "source": [
        "##Deskripsi Data"
      ],
      "metadata": {
        "id": "r-fCz9DflzXQ"
      }
    },
    {
      "cell_type": "markdown",
      "source": [
        "Dataset yang digunakan dalam penelitian ini berisi informasi tentang perjalanan yang dipesan melalui layanan Lyft. Spesifikasi data sebagai berikut:\n",
        "\n",
        "Jumlah Data: 6 entri (sampel)\n",
        "- Kelas: Terdiri dari berbagai jenis layanan Lyft seperti 'Shared', 'Lux', 'Lyft', 'Lux Black XL', 'Lyft XL', dan 'Lux Black'.\n",
        "\n",
        "- Sumber Data: Data ini diambil dari kaggle\n",
        "\n",
        "- Link Data : https://www.kaggle.com/datasets/brllrb/uber-and-lyft-dataset-boston-ma\n",
        "\n",
        "\n",
        "Beberapa kolom penting dalam dataset ini meliputi:\n",
        "- timestamp, hour, day, month, datetime: informasi waktu pemesanan.\n",
        "source, destination: lokasi awal dan tujuan perjalanan.\n",
        "\n",
        "- cab_type, product_id, name: informasi tentang jenis layanan Lyft.\n",
        "price: harga tumpangan.\n",
        "distance: jarak perjalanan\n",
        "\n",
        "-surge_multiplier: pengali tarif yang digunakan saat permintaan tinggi.\n",
        "temperature, apparentTemperature, humidity, windSpeed, dll.: data cuaca pada saat pemesanan."
      ],
      "metadata": {
        "id": "LrRBedsEllxf"
      }
    },
    {
      "cell_type": "markdown",
      "source": [
        "##Tujuan Penelitian"
      ],
      "metadata": {
        "id": "H8b5iaQtmKVb"
      }
    },
    {
      "cell_type": "markdown",
      "source": [
        "Tujuan dari penelitian ini adalah:\n",
        "\n",
        "- Memahami dinamika penentuan harga dalam layanan transportasi berbasis aplikasi seperti Lyft.\n",
        "\n",
        "- Menganalisis bagaimana berbagai faktor, terutama kondisi cuaca, mempengaruhi harga tumpangan.\n",
        "\n",
        "- Memberikan rekomendasi kepada perusahaan transportasi tentang bagaimana mengoptimalkan strategi penentuan harga mereka berdasarkan analisis data.\n",
        "\n",
        "Dengan memahami hubungan antara faktor-faktor ini dan harga, kita dapat memberikan wawasan berharga yang dapat membantu perusahaan transportasi dalam mengambil keputusan bisnis yang lebih tepat dan efisien"
      ],
      "metadata": {
        "id": "Oh_fqYpYmJGS"
      }
    },
    {
      "cell_type": "markdown",
      "source": [
        "#Import Library"
      ],
      "metadata": {
        "id": "Icei9C9BmrMp"
      }
    },
    {
      "cell_type": "code",
      "source": [
        "import pandas as pd\n",
        "import numpy as np\n",
        "import pandas as pd\n",
        "import seaborn as sns\n",
        "\n",
        "from sklearn.preprocessing import MinMaxScaler\n",
        "from matplotlib import pyplot as plt\n",
        "from sklearn.feature_selection import SelectKBest, f_classif\n",
        "from sklearn.cluster import KMeans\n",
        "from sklearn.preprocessing import LabelEncoder, OneHotEncoder, OrdinalEncoder, StandardScaler, MinMaxScaler\n",
        "from sklearn.model_selection import train_test_split\n",
        "from sklearn.linear_model import LinearRegression\n",
        "from sklearn.metrics import mean_squared_error, mean_absolute_error, r2_score\n",
        "from sklearn.compose import ColumnTransformer\n"
      ],
      "metadata": {
        "id": "PScRiyrwmth_"
      },
      "execution_count": null,
      "outputs": []
    },
    {
      "cell_type": "markdown",
      "source": [
        "#Load Data"
      ],
      "metadata": {
        "id": "16lJWKFymy5N"
      }
    },
    {
      "cell_type": "code",
      "source": [
        "from google.colab import drive\n",
        "drive.mount('/content/drive')"
      ],
      "metadata": {
        "id": "83GU2Wu4nCYr"
      },
      "execution_count": null,
      "outputs": []
    },
    {
      "cell_type": "code",
      "source": [
        "url = '/content/drive/MyDrive/dataset/final_project/rideshare_kaggle.csv'\n",
        "df = pd.read_csv(url)"
      ],
      "metadata": {
        "id": "g3dWgK8RnEy4"
      },
      "execution_count": null,
      "outputs": []
    },
    {
      "cell_type": "code",
      "source": [
        "df.head()"
      ],
      "metadata": {
        "id": "PRYCMigVnJr4"
      },
      "execution_count": null,
      "outputs": []
    },
    {
      "cell_type": "markdown",
      "source": [
        "#Data Cleaning"
      ],
      "metadata": {
        "id": "CvspaxgqnM7b"
      }
    },
    {
      "cell_type": "code",
      "source": [
        "df.info()"
      ],
      "metadata": {
        "id": "uCb_CIKMngtL"
      },
      "execution_count": null,
      "outputs": []
    },
    {
      "cell_type": "code",
      "source": [
        "df.isnull().sum()"
      ],
      "metadata": {
        "id": "Kc240JDin_XE"
      },
      "execution_count": null,
      "outputs": []
    },
    {
      "cell_type": "code",
      "source": [
        "df.duplicated().sum()"
      ],
      "metadata": {
        "id": "dNsV-5Q_oA25"
      },
      "execution_count": null,
      "outputs": []
    },
    {
      "cell_type": "code",
      "source": [
        "df['price'].fillna(df['price'].mean(), inplace=True)"
      ],
      "metadata": {
        "id": "E9rRCHF7oGgP"
      },
      "execution_count": null,
      "outputs": []
    },
    {
      "cell_type": "markdown",
      "source": [
        "#Exploration Data"
      ],
      "metadata": {
        "id": "B3qsV0KfoUgh"
      }
    },
    {
      "cell_type": "code",
      "source": [
        "df.describe()"
      ],
      "metadata": {
        "id": "i6GLbhvKpObX"
      },
      "execution_count": null,
      "outputs": []
    },
    {
      "cell_type": "markdown",
      "source": [
        "Dengan data statistik yang Anda berikan, kita dapat menyimpulkan informasi berikut:\n",
        "\n",
        "- Jumlah Data: Ada sekitar 693,071 entri dalam dataset.\n",
        "\n",
        "- Timestamp: Rentang waktu data mencakup sekitar 1.543204×1091.543204×109 hingga 1.545161×1091.545161×109, yang menggambarkan timestamp dalam format Unix\n",
        "\n",
        "- Hour, Day, Month: Waktu pemesanan berkisar dari jam 0 hingga 23. Tanggal pemesanan mencakup tanggal 1 hingga 30. Data berasal dari bulan 11 dan 12.\n",
        "\n",
        "- Price (Harga): Harga rata-rata perjalanan adalah $16.55, harga berkisar dari $2.50 hingga $97.50.\n",
        "\n",
        "- Distance (Jarak): Jarak rata-rata perjalanan adalah sekitar 2.19 mil. Jarak perjalanan berkisar dari 0.02\n",
        "\n",
        "- dsb"
      ],
      "metadata": {
        "id": "gPblzvKtqcpF"
      }
    },
    {
      "cell_type": "code",
      "source": [
        "plt.figure(figsize=(12, 6))\n",
        "plt.subplot(1, 2, 1)\n",
        "plt.hist(df[\"price\"], bins=20, color=\"skyblue\", edgecolor=\"black\")\n",
        "plt.title(\"Distribusi Harga\")\n",
        "plt.xlabel(\"Harga ($)\")\n",
        "plt.ylabel(\"Frekuensi\")\n",
        "\n",
        "plt.subplot(1, 2, 2)\n",
        "plt.hist(df[\"temperature\"], bins=20, color=\"salmon\", edgecolor=\"black\")\n",
        "plt.title(\"Distribusi Suhu\")\n",
        "plt.xlabel(\"Suhu (°F)\")\n",
        "plt.ylabel(\"Frekuensi\")\n",
        "\n",
        "plt.tight_layout()\n",
        "plt.show()"
      ],
      "metadata": {
        "id": "CKcMQngupPRi"
      },
      "execution_count": null,
      "outputs": []
    },
    {
      "cell_type": "markdown",
      "source": [
        "1. Distribusi Harga:\n",
        "   - Mayoritas harga tampaknya berkumpul di kisaran yang lebih rendah, menunjukkan bahwa banyak tumpangan memiliki biaya yang relatif lebih rendah\n",
        "   - Ada beberapa puncak atau modus pada distribusi, menunjukkan beberapa titik harga yang paling umum ada pada rentang harga 20$\n",
        "\n",
        "2. Distribusi Suhu:\n",
        "   - Suhu tampaknya memiliki distribusi yang lebih merata daripada harga.\n",
        "   - Ada beberapa kisaran suhu di mana frekuensinya sedikit lebih tinggi, menunjukkan bahwa beberapa suhu lebih umum selama periode waktu yang dianalisis pada rentang 40°F - 45°F."
      ],
      "metadata": {
        "id": "x9_Ta1yir8xr"
      }
    },
    {
      "cell_type": "code",
      "source": [
        "grouped = df.groupby(\"name\")[\"price\"].mean().sort_values(ascending=False)\n",
        "grouped"
      ],
      "metadata": {
        "id": "AD7SOpNlpVJt"
      },
      "execution_count": null,
      "outputs": []
    },
    {
      "cell_type": "markdown",
      "source": [
        "Dapat dilihat bahwa \"Lux Black XL\" memiliki harga rata-rata tertinggi, sedangkan \"Shared\" memiliki harga rata-rata terendah."
      ],
      "metadata": {
        "id": "pjdDpCUNs0u1"
      }
    },
    {
      "cell_type": "code",
      "source": [
        "plt.figure(figsize=(10, 6))\n",
        "grouped.plot(kind=\"bar\", color=\"teal\")\n",
        "plt.title(\"Harga Rata-rata berdasarkan Jenis Layanan Lyft\")\n",
        "plt.xlabel(\"Jenis Layanan\")\n",
        "plt.ylabel(\"Harga Rata-rata ($)\")\n",
        "plt.xticks(rotation=45)\n",
        "plt.grid(axis='y')\n",
        "plt.show()"
      ],
      "metadata": {
        "id": "mKsUj0-dpfNb"
      },
      "execution_count": null,
      "outputs": []
    },
    {
      "cell_type": "markdown",
      "source": [
        "Dari visualisasi di atas, kita dapat dengan jelas melihat perbedaan harga rata-rata berdasarkan jenis layanan Lyft:\n",
        "- Layanan premium seperti Lux Black XL dan Black SUV memiliki harga rata-rata yang jauh lebih tinggi dibandingkan dengan layanan lainnya.\n",
        "- Sebagai layanan bersama, Shared memiliki harga rata-rata terendah, yang sesuai dengan ekspektasi karena layanan tersebut memungkinkan penumpang untuk membagi biaya tumpangan dengan orang lain."
      ],
      "metadata": {
        "id": "H_BabWSts7rI"
      }
    },
    {
      "cell_type": "markdown",
      "source": [
        "#Data Preprocessing"
      ],
      "metadata": {
        "id": "-8sF4BsOtJwD"
      }
    },
    {
      "cell_type": "code",
      "source": [
        "X = df['distance']\n",
        "y = df['price']"
      ],
      "metadata": {
        "id": "r6fm0FT-u_65"
      },
      "execution_count": null,
      "outputs": []
    },
    {
      "cell_type": "code",
      "source": [
        "X_train, X_test, y_train, y_test = train_test_split(X, y, test_size=0.2, random_state=42)"
      ],
      "metadata": {
        "id": "1fp_fJjFvdto"
      },
      "execution_count": null,
      "outputs": []
    },
    {
      "cell_type": "code",
      "source": [
        "X_train = X_train.values.reshape(-1, 1)\n",
        "X_test = X_test.values.reshape(-1, 1)"
      ],
      "metadata": {
        "id": "wiTAlHtqywL_"
      },
      "execution_count": null,
      "outputs": []
    },
    {
      "cell_type": "code",
      "source": [
        "scaler = StandardScaler()\n",
        "X_train_scaled = scaler.fit_transform(X_train)\n",
        "X_test_scaled = scaler.transform(X_test)"
      ],
      "metadata": {
        "id": "i1_J44lTyxsV"
      },
      "execution_count": null,
      "outputs": []
    },
    {
      "cell_type": "markdown",
      "source": [
        "#Pendefisian Model"
      ],
      "metadata": {
        "id": "ecnTlua9y0-N"
      }
    },
    {
      "cell_type": "code",
      "source": [
        "model = LinearRegression()"
      ],
      "metadata": {
        "id": "dE9ijAnay5FB"
      },
      "execution_count": null,
      "outputs": []
    },
    {
      "cell_type": "markdown",
      "source": [
        "#Pelatihan Model"
      ],
      "metadata": {
        "id": "VKbRk_xFzEve"
      }
    },
    {
      "cell_type": "code",
      "source": [
        "model.fit(X_train_scaled, y_train)"
      ],
      "metadata": {
        "id": "vFSzYriUy7iH"
      },
      "execution_count": null,
      "outputs": []
    },
    {
      "cell_type": "markdown",
      "source": [
        "#Evaluasi Model"
      ],
      "metadata": {
        "id": "lcz2UneYzL3-"
      }
    },
    {
      "cell_type": "code",
      "source": [
        "y_pred = model.predict(X_test_scaled)"
      ],
      "metadata": {
        "id": "fugU5XuIzKjV"
      },
      "execution_count": null,
      "outputs": []
    },
    {
      "cell_type": "code",
      "source": [
        "# Evaluasi kinerja model\n",
        "mse = mean_squared_error(y_test, y_pred)\n",
        "mae = mean_absolute_error(y_test, y_pred)\n",
        "r2 = r2_score(y_test, y_pred)\n",
        "\n",
        "print(f'Mean Squared Error (MSE): {mse}')\n",
        "print(f'Mean Absolute Error (MAE): {mae}')\n",
        "print(f'R-squared (R^2): {r2}')"
      ],
      "metadata": {
        "id": "HAaV2E_mzNnQ"
      },
      "execution_count": null,
      "outputs": []
    },
    {
      "cell_type": "code",
      "source": [
        "model.score(x_train, y_train)"
      ],
      "metadata": {
        "id": "4WkSzSMHdseu"
      },
      "execution_count": null,
      "outputs": []
    },
    {
      "cell_type": "markdown",
      "source": [
        "#Model Inference"
      ],
      "metadata": {
        "id": "xW5iQMXZzo9O"
      }
    }
  ]
}